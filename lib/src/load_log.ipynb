{
 "cells": [
  {
   "cell_type": "code",
   "execution_count": 7,
   "metadata": {},
   "outputs": [],
   "source": [
    "import pyspark as ps\n",
    "from pyspark.sql import SparkSession\n",
    "from datetime import datetime\n",
    "import library\n"
   ]
  },
  {
   "cell_type": "code",
   "execution_count": 54,
   "metadata": {},
   "outputs": [],
   "source": [
    "# function to standardize log column names (header names). e.g. no dahses, no unnecessary info\n",
    "def fix_header(log: ps.sql.DataFrame) -> ps.sql.DataFrame:\n",
    "    log = log.withColumnRenamed(log.columns[0], log.columns[0].split(' ')[1])\n",
    "    columns = log.columns\n",
    "    for col in columns:\n",
    "        log = log.withColumnRenamed(col, col.replace('-', '_'))\n",
    "\n",
    "    return log\n"
   ]
  },
  {
   "cell_type": "code",
   "execution_count": 38,
   "metadata": {},
   "outputs": [],
   "source": [
    "spark = SparkSession.builder.appName(\"Log Loader\").getOrCreate()\n",
    "path = 'sample_log_folders/filename'\n",
    "log = spark.read.option('header', 'true').csv(path)"
   ]
  },
  {
   "cell_type": "code",
   "execution_count": 55,
   "metadata": {},
   "outputs": [
    {
     "name": "stdout",
     "output_type": "stream",
     "text": [
      "root\n",
      " |-- epoch_ms: string (nullable = true)\n",
      " |--  type: string (nullable = true)\n",
      " |--  flags: string (nullable = true)\n",
      " |--  user: string (nullable = true)\n",
      " |--  vdb: string (nullable = true)\n",
      " |--  port: string (nullable = true)\n",
      " |--  hostname: string (nullable = true)\n",
      " |--  instance_id: string (nullable = true)\n",
      " |--  conn_id: string (nullable = true)\n",
      " |--  class: string (nullable = true)\n",
      " |--  obj_id: string (nullable = true)\n",
      " |--  parent_id: string (nullable = true)\n",
      " |--  runtime_us: string (nullable = true)\n",
      " |--  db_name: string (nullable = true)\n",
      " |--  rows: string (nullable = true)\n",
      " |--  rows_read: string (nullable = true)\n",
      " |--  result_size: string (nullable = true)\n",
      " |--  java_size: string (nullable = true)\n",
      " |--  proctime_ms: string (nullable = true)\n",
      " |--  pattern_hash: string (nullable = true)\n",
      " |--  text: string (nullable = true)\n",
      "\n"
     ]
    }
   ],
   "source": [
    "fix_header(log).printSchema()"
   ]
  },
  {
   "cell_type": "code",
   "execution_count": 15,
   "metadata": {},
   "outputs": [
    {
     "data": {
      "text/plain": [
       "list"
      ]
     },
     "execution_count": 15,
     "metadata": {},
     "output_type": "execute_result"
    }
   ],
   "source": [
    "type(log.columns)"
   ]
  },
  {
   "cell_type": "code",
   "execution_count": null,
   "metadata": {},
   "outputs": [],
   "source": []
  }
 ],
 "metadata": {
  "kernelspec": {
   "display_name": "Python 3",
   "language": "python",
   "name": "python3"
  },
  "language_info": {
   "codemirror_mode": {
    "name": "ipython",
    "version": 3
   },
   "file_extension": ".py",
   "mimetype": "text/x-python",
   "name": "python",
   "nbconvert_exporter": "python",
   "pygments_lexer": "ipython3",
   "version": "3.10.4"
  },
  "orig_nbformat": 4
 },
 "nbformat": 4,
 "nbformat_minor": 2
}
